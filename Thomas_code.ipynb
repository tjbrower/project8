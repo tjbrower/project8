import numpy as np
import pandas as pd
import sklearn.datasets as data

dummy = data.fetch_california_housing()
df_x = pd.DataFrame(dummy.data, columns = dummy.feature_names)
desired_output = dummy.target
display(df_x.head(5), desired_output)

